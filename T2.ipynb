
```
# This is formatted as code
```
